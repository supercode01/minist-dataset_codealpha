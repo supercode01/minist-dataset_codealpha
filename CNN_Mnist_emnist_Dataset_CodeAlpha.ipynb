{
  "cells": [
    {
      "cell_type": "markdown",
      "metadata": {
        "id": "view-in-github",
        "colab_type": "text"
      },
      "source": [
        "<a href=\"https://colab.research.google.com/github/supercode01/Minist-dataset_codealpha/blob/main/CNN_Mnist_emnist_Dataset_CodeAlpha.ipynb\" target=\"_parent\"><img src=\"https://colab.research.google.com/assets/colab-badge.svg\" alt=\"Open In Colab\"/></a>"
      ]
    },
    {
      "cell_type": "code",
      "execution_count": null,
      "metadata": {
        "id": "uP9X-wzPeynI"
      },
      "outputs": [],
      "source": [
        "import tensorflow as tf\n",
        "from tensorflow.keras.datasets import mnist"
      ]
    },
    {
      "cell_type": "code",
      "execution_count": null,
      "metadata": {
        "id": "aqEshukXrjNJ"
      },
      "outputs": [],
      "source": [
        "from tensorflow.keras.models import Sequential"
      ]
    },
    {
      "cell_type": "code",
      "execution_count": null,
      "metadata": {
        "id": "9lZmlX_xr6F-"
      },
      "outputs": [],
      "source": [
        "from tensorflow.keras.layers import Dense, Flatten, Conv2D, MaxPooling2D, Dropout"
      ]
    },
    {
      "cell_type": "code",
      "execution_count": null,
      "metadata": {
        "id": "bORTx-OTsFjn"
      },
      "outputs": [],
      "source": [
        "import matplotlib.pyplot as plt"
      ]
    },
    {
      "cell_type": "code",
      "execution_count": null,
      "metadata": {
        "colab": {
          "base_uri": "https://localhost:8080/"
        },
        "id": "PteWIIqouqoN",
        "outputId": "e7add814-c4c8-4a9d-de30-6a62f222ed90"
      },
      "outputs": [
        {
          "name": "stdout",
          "output_type": "stream",
          "text": [
            "Downloading data from https://storage.googleapis.com/tensorflow/tf-keras-datasets/mnist.npz\n",
            "\u001b[1m11490434/11490434\u001b[0m \u001b[32m━━━━━━━━━━━━━━━━━━━━\u001b[0m\u001b[37m\u001b[0m \u001b[1m1s\u001b[0m 0us/step\n"
          ]
        }
      ],
      "source": [
        "(x_train_mnist, y_train_mnist), (x_test_mnist, y_test_mnist) = mnist.load_data()"
      ]
    },
    {
      "cell_type": "code",
      "execution_count": null,
      "metadata": {
        "colab": {
          "base_uri": "https://localhost:8080/"
        },
        "id": "gcxMmRcWX8mv",
        "outputId": "b9c6de22-e03a-483e-adfa-cfa4423b0b06"
      },
      "outputs": [
        {
          "name": "stdout",
          "output_type": "stream",
          "text": [
            "[5 0 4 ... 5 6 8]\n"
          ]
        }
      ],
      "source": [
        "print(y_train_mnist)"
      ]
    },
    {
      "cell_type": "code",
      "execution_count": null,
      "metadata": {
        "colab": {
          "base_uri": "https://localhost:8080/"
        },
        "id": "DHhyj4qkyi_K",
        "outputId": "63a27a05-d890-46a5-c284-4613585daf42"
      },
      "outputs": [
        {
          "name": "stdout",
          "output_type": "stream",
          "text": [
            "[7 2 1 ... 4 5 6]\n"
          ]
        }
      ],
      "source": [
        "print(y_test_mnist)"
      ]
    },
    {
      "cell_type": "code",
      "execution_count": null,
      "metadata": {
        "id": "9wwiJVTqYVKk"
      },
      "outputs": [],
      "source": [
        "x_train_mnist = x_train_mnist/255"
      ]
    },
    {
      "cell_type": "code",
      "execution_count": null,
      "metadata": {
        "id": "SiiZuDR4Yg4H"
      },
      "outputs": [],
      "source": [
        "x_test_mnist = x_test_mnist/255"
      ]
    },
    {
      "cell_type": "code",
      "execution_count": null,
      "metadata": {
        "colab": {
          "base_uri": "https://localhost:8080/"
        },
        "id": "D5qViAhiYnjk",
        "outputId": "71489a67-8310-49b2-f0ea-c1ec54c6bb05"
      },
      "outputs": [
        {
          "name": "stdout",
          "output_type": "stream",
          "text": [
            "(60000, 28, 28)\n"
          ]
        }
      ],
      "source": [
        "print(x_train_mnist.shape)"
      ]
    },
    {
      "cell_type": "code",
      "execution_count": null,
      "metadata": {
        "colab": {
          "base_uri": "https://localhost:8080/"
        },
        "id": "udScJLI_Zx-z",
        "outputId": "e87e7a2d-f1a8-40d3-a5fb-58e3bb367e30"
      },
      "outputs": [
        {
          "name": "stdout",
          "output_type": "stream",
          "text": [
            "(10000, 28, 28)\n"
          ]
        }
      ],
      "source": [
        "print(x_test_mnist.shape)"
      ]
    },
    {
      "cell_type": "markdown",
      "metadata": {
        "id": "MDdb_F6AZ_t8"
      },
      "source": [
        "Total images in mnist dataset is 70k. Every image consist of 28 rows and 28 column of 2D array"
      ]
    },
    {
      "cell_type": "code",
      "execution_count": null,
      "metadata": {
        "id": "WGqgBv4FZ62R"
      },
      "outputs": [],
      "source": [
        "# No of total images in mnist dataset not by shape"
      ]
    },
    {
      "cell_type": "code",
      "execution_count": null,
      "metadata": {
        "colab": {
          "base_uri": "https://localhost:8080/",
          "height": 428
        },
        "id": "n9T-C0MbbOX-",
        "outputId": "8902abf1-6108-495a-fded-7e712367dd41"
      },
      "outputs": [
        {
          "data": {
            "image/png": "[encoded data removed]",
            "text/plain": [
              "<Figure size 640x480 with 1 Axes>"
            ]
          },
          "metadata": {},
          "output_type": "display_data"
        }
      ],
      "source": [
        "plt.imshow(x_train_mnist[24], cmap = \"gray\")\n",
        "# plt.title(y_train_mnist[0])\n",
        "plt.title(f\"Label: {y_train_mnist[24]}\", color = 'blue');\n",
        "ax = plt.gca()  # current axes le aata hai\n",
        "ax.set_facecolor(\"lightblue\")  # axes bg change\n",
        "plt.axis(\"off\");\n",
        "# plt.show()\n",
        "plt.savefig(\"mnist.png\")"
      ]
    },
    {
      "cell_type": "code",
      "execution_count": null,
      "metadata": {
        "colab": {
          "base_uri": "https://localhost:8080/",
          "height": 1000
        },
        "id": "N-btR2xQbrL3",
        "outputId": "e7996aa3-73ea-4e4e-d536-c10f25de1b75"
      },
      "outputs": [
        {
          "data": {
            "image/png": "[encoded data removed]",
            "text/plain": [
              "<Figure size 1000x1000 with 25 Axes>"
            ]
          },
          "metadata": {},
          "output_type": "display_data"
        }
      ],
      "source": [
        "# Set up the grid: 5 rows × 5 columns\n",
        "plt.figure(figsize=(10, 10), facecolor='lightblue')\n",
        "\n",
        "for i in range(25):  # Show first 25 images\n",
        "    plt.subplot(5, 5, i + 1)           # Plot in 5x5 grid\n",
        "    plt.imshow(x_train_mnist[i], cmap='gray')  # Show image\n",
        "    plt.title(f\"{y_train_mnist[i]}\", fontsize=12)  # Show label\n",
        "    plt.axis('off')                   # Hide axes\n",
        "\n",
        "plt.tight_layout()  # Adjust spacing\n",
        "plt.savefig(\"mnist_canvas.png\")\n",
        "plt.show()"
      ]
    },
    {
      "cell_type": "code",
      "execution_count": null,
      "metadata": {
        "id": "4ixlejG-LN34"
      },
      "outputs": [],
      "source": [
        "x_train_mnist = x_train_mnist.reshape(-1, 28, 28, 1)\n",
        "x_test_mnist = x_test_mnist.reshape(-1, 28, 28, 1)"
      ]
    },
    {
      "cell_type": "code",
      "execution_count": null,
      "metadata": {
        "colab": {
          "base_uri": "https://localhost:8080/"
        },
        "id": "jfdR5u6KmpVp",
        "outputId": "5632dd8e-e789-4f14-903a-be104b6f42c6"
      },
      "outputs": [
        {
          "name": "stdout",
          "output_type": "stream",
          "text": [
            "(60000, 28, 28, 1)\n",
            "(10000, 28, 28, 1)\n"
          ]
        }
      ],
      "source": [
        "print(x_train_mnist.shape)\n",
        "print(x_test_mnist.shape)"
      ]
    },
    {
      "cell_type": "code",
      "execution_count": null,
      "metadata": {
        "colab": {
          "base_uri": "https://localhost:8080/"
        },
        "id": "1fQAqAn4m2q7",
        "outputId": "d33ffc5e-69c2-4f4e-ba71-2b2b8ac0602d"
      },
      "outputs": [
        {
          "name": "stderr",
          "output_type": "stream",
          "text": [
            "/usr/local/lib/python3.12/dist-packages/keras/src/layers/convolutional/base_conv.py:113: UserWarning: Do not pass an `input_shape`/`input_dim` argument to a layer. When using Sequential models, prefer using an `Input(shape)` object as the first layer in the model instead.\n",
            "  super().__init__(activity_regularizer=activity_regularizer, **kwargs)\n"
          ]
        }
      ],
      "source": [
        "model = Sequential([\n",
        "    Conv2D(32, (3, 3), activation = \"relu\", input_shape = (28, 28, 1)),\n",
        "    MaxPooling2D((2, 2)),\n",
        "    Conv2D(64, (3,3), activation= \"relu\"),\n",
        "    MaxPooling2D((2,2)),\n",
        "    Flatten(),\n",
        "    Dense(64, activation=\"relu\"),\n",
        "    Dense(10, activation=\"softmax\")\n",
        "])"
      ]
    },
    {
      "cell_type": "code",
      "execution_count": null,
      "metadata": {
        "id": "Y08PS-c1ueUM"
      },
      "outputs": [],
      "source": [
        "model.compile(optimizer = 'adam', loss = 'sparse_categorical_crossentropy', metrics = ['accuracy'])"
      ]
    },
    {
      "cell_type": "code",
      "execution_count": null,
      "metadata": {
        "colab": {
          "base_uri": "https://localhost:8080/"
        },
        "id": "w05op4Y-yhaW",
        "outputId": "889aa262-c9e2-4352-8581-bbdb8136ee2c"
      },
      "outputs": [
        {
          "name": "stdout",
          "output_type": "stream",
          "text": [
            "Epoch 1/5\n",
            "\u001b[1m1500/1500\u001b[0m \u001b[32m━━━━━━━━━━━━━━━━━━━━\u001b[0m\u001b[37m\u001b[0m \u001b[1m49s\u001b[0m 32ms/step - accuracy: 0.8937 - loss: 0.3513 - val_accuracy: 0.9792 - val_loss: 0.0681\n",
            "Epoch 2/5\n",
            "\u001b[1m1500/1500\u001b[0m \u001b[32m━━━━━━━━━━━━━━━━━━━━\u001b[0m\u001b[37m\u001b[0m \u001b[1m81s\u001b[0m 31ms/step - accuracy: 0.9834 - loss: 0.0526 - val_accuracy: 0.9838 - val_loss: 0.0534\n",
            "Epoch 3/5\n",
            "\u001b[1m1500/1500\u001b[0m \u001b[32m━━━━━━━━━━━━━━━━━━━━\u001b[0m\u001b[37m\u001b[0m \u001b[1m83s\u001b[0m 32ms/step - accuracy: 0.9897 - loss: 0.0347 - val_accuracy: 0.9880 - val_loss: 0.0416\n",
            "Epoch 4/5\n",
            "\u001b[1m1500/1500\u001b[0m \u001b[32m━━━━━━━━━━━━━━━━━━━━\u001b[0m\u001b[37m\u001b[0m \u001b[1m47s\u001b[0m 31ms/step - accuracy: 0.9919 - loss: 0.0242 - val_accuracy: 0.9888 - val_loss: 0.0375\n",
            "Epoch 5/5\n",
            "\u001b[1m1500/1500\u001b[0m \u001b[32m━━━━━━━━━━━━━━━━━━━━\u001b[0m\u001b[37m\u001b[0m \u001b[1m82s\u001b[0m 31ms/step - accuracy: 0.9947 - loss: 0.0193 - val_accuracy: 0.9896 - val_loss: 0.0384\n"
          ]
        }
      ],
      "source": [
        "history = model.fit(x_train_mnist, y_train_mnist, epochs = 5, batch_size= 32 ,validation_split = 0.2)"
      ]
    },
    {
      "cell_type": "markdown",
      "metadata": {
        "id": "GQF6xy7f3W2_"
      },
      "source": [
        "**validation_data** is use for testing the model.\n",
        "\n",
        "**validation_split** is use to split the training data."
      ]
    },
    {
      "cell_type": "code",
      "execution_count": null,
      "metadata": {
        "colab": {
          "base_uri": "https://localhost:8080/",
          "height": 449
        },
        "id": "cGrdh66K334B",
        "outputId": "a0df1fdd-b1ac-4447-aecf-33629543ee61"
      },
      "outputs": [
        {
          "data": {
            "image/png": "[encoded data removed]",
            "text/plain": [
              "<Figure size 640x480 with 1 Axes>"
            ]
          },
          "metadata": {},
          "output_type": "display_data"
        }
      ],
      "source": [
        "# Plot training vs validation accuracy\n",
        "plt.plot(history.history['accuracy'], label = 'Training Accuracy')\n",
        "plt.plot(history.history['val_accuracy'], label = 'Validation Accuracy')\n",
        "plt.xlabel('Epoch')\n",
        "plt.ylabel('Accuracy')\n",
        "plt.legend()\n",
        "plt.savefig('mnist_accuracy.png')\n",
        "plt.show()"
      ]
    },
    {
      "cell_type": "code",
      "execution_count": null,
      "metadata": {
        "colab": {
          "base_uri": "https://localhost:8080/"
        },
        "id": "abyzqA3xI-AL",
        "outputId": "44a6cc69-9d6f-4245-937d-77b6bb737c2e"
      },
      "outputs": [
        {
          "name": "stdout",
          "output_type": "stream",
          "text": [
            "\u001b[1m313/313\u001b[0m \u001b[32m━━━━━━━━━━━━━━━━━━━━\u001b[0m\u001b[37m\u001b[0m \u001b[1m3s\u001b[0m 9ms/step - accuracy: 0.9865 - loss: 0.0370\n",
            "Test Accuracy: 0.9890\n",
            "Test Loss: 0.0312\n"
          ]
        }
      ],
      "source": [
        "test_loss, test_accuracy = model.evaluate(x_test_mnist, y_test_mnist)\n",
        "print(f\"Test Accuracy: {test_accuracy:.4f}\")\n",
        "print(f\"Test Loss: {test_loss:.4f}\")"
      ]
    },
    {
      "cell_type": "code",
      "execution_count": null,
      "metadata": {
        "id": "IwAc9dzoJjO3"
      },
      "outputs": [],
      "source": [
        "index = 2\n",
        "image = x_test_mnist[index]"
      ]
    },
    {
      "cell_type": "code",
      "execution_count": null,
      "metadata": {
        "colab": {
          "base_uri": "https://localhost:8080/",
          "height": 428
        },
        "id": "ozxzP2xFJnj-",
        "outputId": "80423396-ff89-41b0-d8c4-6a472a1124d9"
      },
      "outputs": [
        {
          "data": {
            "image/png": "[encoded data removed]",
            "text/plain": [
              "<Figure size 640x480 with 1 Axes>"
            ]
          },
          "metadata": {},
          "output_type": "display_data"
        }
      ],
      "source": [
        "# Show the image\n",
        "plt.imshow(image, cmap='gnuplot2_r')\n",
        "plt.title(\"Input Image\")\n",
        "plt.axis('off')\n",
        "plt.show()"
      ]
    },
    {
      "cell_type": "code",
      "execution_count": null,
      "metadata": {
        "id": "CT6NfXd0JuGL"
      },
      "outputs": [],
      "source": [
        "image_reshaped = image.reshape(1, 28, 28)"
      ]
    },
    {
      "cell_type": "code",
      "execution_count": null,
      "metadata": {
        "colab": {
          "base_uri": "https://localhost:8080/"
        },
        "id": "DrdUsVrRJ0UN",
        "outputId": "41872473-a289-4645-c4fe-b69f63163d60"
      },
      "outputs": [
        {
          "name": "stdout",
          "output_type": "stream",
          "text": [
            "\u001b[1m1/1\u001b[0m \u001b[32m━━━━━━━━━━━━━━━━━━━━\u001b[0m\u001b[37m\u001b[0m \u001b[1m0s\u001b[0m 102ms/step\n"
          ]
        }
      ],
      "source": [
        "import numpy as np\n",
        "predicted_probabilities = model.predict(image_reshaped)\n",
        "predicted_class = np.argmax(predicted_probabilities)"
      ]
    },
    {
      "cell_type": "code",
      "execution_count": null,
      "metadata": {
        "colab": {
          "base_uri": "https://localhost:8080/"
        },
        "id": "jfaF7sRjJ6Qr",
        "outputId": "76221087-37c8-4d78-a939-c14d1a8196fc"
      },
      "outputs": [
        {
          "name": "stdout",
          "output_type": "stream",
          "text": [
            "Predicted digit: 1\n"
          ]
        }
      ],
      "source": [
        "print(f\"Predicted digit: {predicted_class}\")"
      ]
    },
    {
      "cell_type": "code",
      "execution_count": null,
      "metadata": {
        "id": "pm_AM86iJ_wU"
      },
      "outputs": [],
      "source": [
        "true_label = np.argmax(y_test_mnist[index])"
      ]
    },
    {
      "cell_type": "code",
      "execution_count": null,
      "metadata": {
        "colab": {
          "base_uri": "https://localhost:8080/",
          "height": 428
        },
        "id": "KPGiFrHwKIXn",
        "outputId": "11796fa2-a13b-41d5-f5bf-ac23f71f28d1"
      },
      "outputs": [
        {
          "data": {
            "image/png": "[encoded data removed]",
            "text/plain": [
              "<Figure size 640x480 with 1 Axes>"
            ]
          },
          "metadata": {},
          "output_type": "display_data"
        }
      ],
      "source": [
        "# compairing orignal pic with prediction\n",
        "plt.imshow(image, cmap='grey')\n",
        "plt.title(f\"Original: {true_label} | Predicted: {predicted_class}\")\n",
        "plt.axis('off')\n",
        "plt.show()"
      ]
    },
    {
      "cell_type": "markdown",
      "metadata": {
        "id": "T1CJoZsxwfPn"
      },
      "source": [
        "## Emnist Dataset ##"
      ]
    },
    {
      "cell_type": "code",
      "execution_count": null,
      "metadata": {
        "colab": {
          "base_uri": "https://localhost:8080/"
        },
        "id": "cpnosPFZlD77",
        "outputId": "4015671b-d47c-4f58-ec44-b2d16a0502d9"
      },
      "outputs": [
        {
          "name": "stdout",
          "output_type": "stream",
          "text": [
            "Requirement already satisfied: extra-keras-datasets in /usr/local/lib/python3.12/dist-packages (1.2.0)\n",
            "Requirement already satisfied: numpy in /usr/local/lib/python3.12/dist-packages (from extra-keras-datasets) (2.0.2)\n",
            "Requirement already satisfied: scipy in /usr/local/lib/python3.12/dist-packages (from extra-keras-datasets) (1.16.1)\n",
            "Requirement already satisfied: pandas in /usr/local/lib/python3.12/dist-packages (from extra-keras-datasets) (2.2.2)\n",
            "Requirement already satisfied: scikit-learn in /usr/local/lib/python3.12/dist-packages (from extra-keras-datasets) (1.6.1)\n",
            "Requirement already satisfied: python-dateutil>=2.8.2 in /usr/local/lib/python3.12/dist-packages (from pandas->extra-keras-datasets) (2.9.0.post0)\n",
            "Requirement already satisfied: pytz>=2020.1 in /usr/local/lib/python3.12/dist-packages (from pandas->extra-keras-datasets) (2025.2)\n",
            "Requirement already satisfied: tzdata>=2022.7 in /usr/local/lib/python3.12/dist-packages (from pandas->extra-keras-datasets) (2025.2)\n",
            "Requirement already satisfied: joblib>=1.2.0 in /usr/local/lib/python3.12/dist-packages (from scikit-learn->extra-keras-datasets) (1.5.1)\n",
            "Requirement already satisfied: threadpoolctl>=3.1.0 in /usr/local/lib/python3.12/dist-packages (from scikit-learn->extra-keras-datasets) (3.6.0)\n",
            "Requirement already satisfied: six>=1.5 in /usr/local/lib/python3.12/dist-packages (from python-dateutil>=2.8.2->pandas->extra-keras-datasets) (1.17.0)\n"
          ]
        }
      ],
      "source": [
        "!pip install extra-keras-datasets"
      ]
    },
    {
      "cell_type": "code",
      "execution_count": null,
      "metadata": {
        "id": "-0RqEow2Gknb"
      },
      "outputs": [],
      "source": [
        "import tensorflow_datasets as tfds"
      ]
    },
    {
      "cell_type": "code",
      "execution_count": null,
      "metadata": {
        "colab": {
          "base_uri": "https://localhost:8080/",
          "height": 217,
          "referenced_widgets": [
            "16b14139619b43f6b77625020dba3c05",
            "2ec328561083433d986f9b0f0b922aa9",
            "ed3de64299d745678c8d8787ac3bb4cd",
            "b79936cfcc354bad8a49745bf34f9aa2",
            "0b181c9a3b064bcfa46ce56531f89cd5",
            "acc3361e800c4f0f900f3b0d0411523d",
            "81655d01094e4720aefa39b6b3fca3a6",
            "b9d57e72aaa948e4aa6e5f49fadb1fe0",
            "a6287c3f257d4e5b8f420d34f710b5a9",
            "33002378f092480ba9d8883f51573b12",
            "9793e750d29f4712a9138d53e83b5fc1",
            "94f1541f10bf4cb496a507224646a614",
            "531e232f4e734712a0d5b18bd3916f90",
            "e2bfa43eaaa5430cb7bc43dc27372559",
            "1960d672fd154cee95424e25bf638ba9",
            "d2962a9b685f4e8897038e6ca491ed55",
            "f731aea7c2fc4f7bb0bced3d1be8ba5b",
            "568161e06bc344cf984999f27fb89490",
            "5257234532094cdc95bede64a3acb708",
            "a9d3ac839f934a4f84b512e1d905293f",
            "b3ec15cec4724c6ebcfc160428c3d1b7",
            "62dd123a45d54b0b988cce869c50f996",
            "315c46062eba4cc7a3406e07021cbaec",
            "6b92dff432fe48f899898af0d1f94b75",
            "190981425f634f2abaac44d83e78febe",
            "600d8cb5da4d4098a6cbbc251a91118b",
            "d40a05e421af4620b97afe4d6119679b",
            "e0cb5f28c6a049458748623e84341b8c",
            "044b9e63dc5e4714a6fa676c80efd7cf",
            "64f12916ccac42c088ca32366abcdd18",
            "b98d3ee128fe469599f959dc65e9acdf",
            "71d2f771ab8e4fc88c7704a857d3b447",
            "20f469133cd342f19f74632249fd0783",
            "314e5232a49d48479d641122421468c4",
            "675f9337a4d841c0b824141f55ae6938",
            "fcea70de3da04d6a81997b8b238c629b",
            "6eecf925adda41429a61e24234b90d7c",
            "c7df3ec781e041fe9ef79bb0674c757b",
            "cc482eb94d8d49799edaebb0ad8e835c",
            "10ed2dcab8d047c4a84510f17d72eaf6",
            "80c5bae511094d01b8b1b3aa44d10cca",
            "a7421ec1b0e64d14a96eaeca271ff74a",
            "af486b873e9047dcac0dff24d4a42176",
            "067b72bb66be4143b68e07f98dbfa059",
            "22e89804ca8a4ecda49fbf5c5f05c065",
            "d83375cb2f3d406da058a35a854b3153",
            "1880eebed0ac4d1ea5679b7af1824bac",
            "21f9fe5a24704c89885ad5bb9a90093e",
            "e917b071fbbf4da2ab38f76d561f41bb",
            "5ef68267935647c99df54712000f84fe",
            "bdb85b541ece4c06a0e20a28a25d656a",
            "619bd79bd3564ea0b099c61c53ba872b",
            "ce8506e34db847dc8423397512a34505",
            "9673f991dab14cb28b5c183514292e85",
            "abec5e3d3b644f6da8f67b407d962de1",
            "c04a1459fc5040fca4f8b15cb6b35f28",
            "8a0e48621e27471fabd4b471503281a9",
            "65c8c32c0eaf46e487031d72eee901cf",
            "22905188fdca4e9fabe2ff9852e79ed2",
            "ff139aa04d284d9aa91d0fb4896b61fb",
            "9a2891ebaca147d691d706e5eee957b3",
            "aee1301c57164d9781316aab841604d6",
            "20687a0becd5453b9925db81b138b42d",
            "e77ff28591894b33ba33285e8b0b3855",
            "fe8bd598f3314dc78a95424a83b6430e",
            "527d08280dad4cfb9309b233bebf3f77",
            "f8a43c96ec7d4910a54da242cc0f4738",
            "cb5d6b10d7a74c7eb228738bc4899843",
            "a44cbbab418048ee89ed5bce8f144b33",
            "74a9277981b44efa98d1a2fa6bffea8a",
            "e4b9eb82937242da89be82b5b08400f9",
            "e872667641fa4109b0f0e651fa40e276",
            "752accae951842ae8fff92801964eb80",
            "615212383f6b413eb6bf62ad14d81b96",
            "cdbb8b1542e04bc596b67d0cdf29b8b1",
            "aff776b05a71419d81e00dd91e2568b4",
            "8b723fcd44e14152a0104112a058db84",
            "4244fb51cf334b9bbc4aa0030c985522",
            "89356e072f7e4139a3d216400514c027",
            "a59f8f13cb964ce9a63cef3e5835ec83",
            "6a901615e8714af3a5bc438f1406abd0",
            "f77f5e374ccc445b853d20666ccba7c7",
            "402c8db7759640279f11bcc0763e4b39",
            "d621fdc8de8c49a9ac75d0335b9151c8",
            "2f070aae3e14471ab0f65c213ea6f7cd",
            "c6d52fc973704a2ca9f90e4e744ab56d",
            "9c22c88a317a402bbca0f2d3076a644b",
            "e3ddf44a7733472e95f89be1351bfd0f",
            "43d9ee62d4e444e2959862826c315938",
            "45294f26424d4b26ac58c46d65e02fe2",
            "5a1810127b12481d86cb4b3566cfa5b2",
            "788578f97314444aa4accc56e6ad526f",
            "0d6855dfb73f47cb9c04c02154234b59",
            "7e75edeb7c904764bbf01fdb52a6f989",
            "9a98312b2be24a23b10a823442a72363",
            "51613c1b594e40a7bcce89a31533a96e",
            "d5eaf117b4a64b4693895b83dd63efb1",
            "bbbd47bacc3c4bdd9eba77c61a3d3c88",
            "56dab53564d748a29832f20909a6007e"
          ]
        },
        "id": "QtbEjFGtwnJT",
        "outputId": "e59bcbeb-4798-484e-da86-eed52591256f"
      },
      "outputs": [
        {
          "name": "stderr",
          "output_type": "stream",
          "text": [
            "WARNING:absl:Variant folder /root/tensorflow_datasets/emnist/balanced/3.1.0 has no dataset_info.json\n"
          ]
        },
        {
          "name": "stdout",
          "output_type": "stream",
          "text": [
            "Downloading and preparing dataset Unknown size (download: Unknown size, generated: Unknown size, total: Unknown size) to /root/tensorflow_datasets/emnist/balanced/3.1.0...\n"
          ]
        },
        {
          "data": {
            "application/vnd.jupyter.widget-view+json": {
              "model_id": "16b14139619b43f6b77625020dba3c05",
              "version_major": 2,
              "version_minor": 0
            },
            "text/plain": [
              "Dl Completed...: 0 url [00:00, ? url/s]"
            ]
          },
          "metadata": {},
          "output_type": "display_data"
        },
        {
          "data": {
            "application/vnd.jupyter.widget-view+json": {
              "model_id": "94f1541f10bf4cb496a507224646a614",
              "version_major": 2,
              "version_minor": 0
            },
            "text/plain": [
              "Dl Size...: 0 MiB [00:00, ? MiB/s]"
            ]
          },
          "metadata": {},
          "output_type": "display_data"
        },
        {
          "data": {
            "application/vnd.jupyter.widget-view+json": {
              "model_id": "315c46062eba4cc7a3406e07021cbaec",
              "version_major": 2,
              "version_minor": 0
            },
            "text/plain": [
              "Extraction completed...: 0 file [00:00, ? file/s]"
            ]
          },
          "metadata": {},
          "output_type": "display_data"
        },
        {
          "data": {
            "application/vnd.jupyter.widget-view+json": {
              "model_id": "314e5232a49d48479d641122421468c4",
              "version_major": 2,
              "version_minor": 0
            },
            "text/plain": [
              "Extraction completed...: 0 file [00:00, ? file/s]"
            ]
          },
          "metadata": {},
          "output_type": "display_data"
        },
        {
          "data": {
            "application/vnd.jupyter.widget-view+json": {
              "model_id": "22e89804ca8a4ecda49fbf5c5f05c065",
              "version_major": 2,
              "version_minor": 0
            },
            "text/plain": [
              "Generating splits...:   0%|          | 0/2 [00:00<?, ? splits/s]"
            ]
          },
          "metadata": {},
          "output_type": "display_data"
        },
        {
          "data": {
            "application/vnd.jupyter.widget-view+json": {
              "model_id": "c04a1459fc5040fca4f8b15cb6b35f28",
              "version_major": 2,
              "version_minor": 0
            },
            "text/plain": [
              "Generating train examples...: 0 examples [00:00, ? examples/s]"
            ]
          },
          "metadata": {},
          "output_type": "display_data"
        },
        {
          "data": {
            "application/vnd.jupyter.widget-view+json": {
              "model_id": "f8a43c96ec7d4910a54da242cc0f4738",
              "version_major": 2,
              "version_minor": 0
            },
            "text/plain": [
              "Shuffling /root/tensorflow_datasets/emnist/balanced/incomplete.HLQYVY_3.1.0/emnist-train.tfrecord*...:   0%|  …"
            ]
          },
          "metadata": {},
          "output_type": "display_data"
        },
        {
          "data": {
            "application/vnd.jupyter.widget-view+json": {
              "model_id": "4244fb51cf334b9bbc4aa0030c985522",
              "version_major": 2,
              "version_minor": 0
            },
            "text/plain": [
              "Generating test examples...: 0 examples [00:00, ? examples/s]"
            ]
          },
          "metadata": {},
          "output_type": "display_data"
        },
        {
          "data": {
            "application/vnd.jupyter.widget-view+json": {
              "model_id": "43d9ee62d4e444e2959862826c315938",
              "version_major": 2,
              "version_minor": 0
            },
            "text/plain": [
              "Shuffling /root/tensorflow_datasets/emnist/balanced/incomplete.HLQYVY_3.1.0/emnist-test.tfrecord*...:   0%|   …"
            ]
          },
          "metadata": {},
          "output_type": "display_data"
        },
        {
          "name": "stdout",
          "output_type": "stream",
          "text": [
            "Dataset emnist downloaded and prepared to /root/tensorflow_datasets/emnist/balanced/3.1.0. Subsequent calls will reuse this data.\n"
          ]
        }
      ],
      "source": [
        "(ds_train, ds_test), ds_info = tfds.load(\n",
        "    'emnist/balanced',\n",
        "    split=['train', 'test'],\n",
        "    as_supervised=True,\n",
        "    with_info=True\n",
        ")"
      ]
    },
    {
      "cell_type": "code",
      "execution_count": null,
      "metadata": {
        "colab": {
          "base_uri": "https://localhost:8080/"
        },
        "id": "PDN2BEES1Jh-",
        "outputId": "0730e97d-b262-4937-9063-91f278fa14fb"
      },
      "outputs": [
        {
          "name": "stdout",
          "output_type": "stream",
          "text": [
            "Total classes: 47\n",
            "Example: [(0, '0'), (1, '1'), (2, '2'), (3, '3'), (4, '4'), (5, '5'), (6, '6'), (7, '7'), (8, '8'), (9, '9'), (10, '10'), (11, '11'), (12, '12'), (13, '13'), (14, '14'), (15, '15'), (16, '16'), (17, '17'), (18, '18'), (19, '19')]\n"
          ]
        }
      ],
      "source": [
        "ds_info = tfds.builder(\"emnist/balanced\").info\n",
        "label_names = ds_info.features[\"label\"].names  # class index -> string mapping\n",
        "\n",
        "print(\"Total classes:\", len(label_names))\n",
        "print(\"Example:\", list(enumerate(label_names[:20])))"
      ]
    },
    {
      "cell_type": "code",
      "execution_count": null,
      "metadata": {
        "colab": {
          "base_uri": "https://localhost:8080/"
        },
        "id": "ZXaIYDSuw4LJ",
        "outputId": "50fe67a8-9a05-4f5d-b88b-b00a521ecb6a"
      },
      "outputs": [
        {
          "name": "stdout",
          "output_type": "stream",
          "text": [
            "Number of classes: 47\n"
          ]
        }
      ],
      "source": [
        "num_classes = ds_info.features['label'].num_classes\n",
        "print(\"Number of classes:\", num_classes)"
      ]
    },
    {
      "cell_type": "code",
      "execution_count": null,
      "metadata": {
        "id": "arucZLkmyFgu"
      },
      "outputs": [],
      "source": [
        "import numpy as np"
      ]
    },
    {
      "cell_type": "code",
      "execution_count": null,
      "metadata": {
        "id": "V9f7SeVzyPrF"
      },
      "outputs": [],
      "source": [
        "def to_numpy(ds):\n",
        "    images, labels = [], []\n",
        "    for img, lbl in tfds.as_numpy(ds):\n",
        "        images.append(img)\n",
        "        labels.append(lbl)\n",
        "    return np.array(images), np.array(labels)"
      ]
    },
    {
      "cell_type": "code",
      "execution_count": null,
      "metadata": {
        "id": "FgDpPbxtyTyT"
      },
      "outputs": [],
      "source": [
        "x_train_emnist, y_train_emnist = to_numpy(ds_train)\n",
        "x_test_emnist, y_test_emnist = to_numpy(ds_test)"
      ]
    },
    {
      "cell_type": "code",
      "execution_count": null,
      "metadata": {
        "colab": {
          "base_uri": "https://localhost:8080/"
        },
        "id": "C61bb5ZwyVqY",
        "outputId": "868ec3fa-1aaa-4148-ac8b-e422766a3ca1"
      },
      "outputs": [
        {
          "name": "stdout",
          "output_type": "stream",
          "text": [
            "(112800, 28, 28, 1) (112800,)\n"
          ]
        }
      ],
      "source": [
        "print(x_train_emnist.shape, y_train_emnist.shape)"
      ]
    },
    {
      "cell_type": "code",
      "execution_count": null,
      "metadata": {
        "colab": {
          "base_uri": "https://localhost:8080/"
        },
        "id": "ue4BImgUypcu",
        "outputId": "9d28429d-2aed-4f02-ff9e-5ca911326c2e"
      },
      "outputs": [
        {
          "name": "stdout",
          "output_type": "stream",
          "text": [
            "(18800, 28, 28, 1) (18800,)\n"
          ]
        }
      ],
      "source": [
        "print(x_test_emnist.shape, y_test_emnist.shape)"
      ]
    },
    {
      "cell_type": "code",
      "execution_count": null,
      "metadata": {
        "id": "MLcYCHLCywRg"
      },
      "outputs": [],
      "source": [
        "x_train_emnist = x_train_emnist/255"
      ]
    },
    {
      "cell_type": "code",
      "execution_count": null,
      "metadata": {
        "id": "HECwLu87zfkr"
      },
      "outputs": [],
      "source": [
        "x_test_emnist = x_test_emnist/255"
      ]
    },
    {
      "cell_type": "code",
      "execution_count": null,
      "metadata": {
        "colab": {
          "base_uri": "https://localhost:8080/",
          "height": 428
        },
        "id": "kET8467bzluZ",
        "outputId": "3b0802eb-c4bb-4b8d-d0bc-c507da5c1f9b"
      },
      "outputs": [
        {
          "data": {
            "image/png": "[encoded data removed]",
            "text/plain": [
              "<Figure size 640x480 with 1 Axes>"
            ]
          },
          "metadata": {},
          "output_type": "display_data"
        }
      ],
      "source": [
        "plt.imshow(x_train_emnist[1], cmap = \"gray\")\n",
        "plt.title(f\"Label: {y_train_emnist[1]}\");\n",
        "plt.axis(\"off\");\n",
        "plt.savefig(\"mnist.png\")"
      ]
    },
    {
      "cell_type": "code",
      "execution_count": null,
      "metadata": {
        "id": "8bqrVLfDzyP8"
      },
      "outputs": [],
      "source": [
        "x_train_emnist = x_train_emnist.reshape(-1, 28, 28, 1)\n",
        "x_test_emnist = x_test_emnist.reshape(-1, 28, 28, 1)"
      ]
    },
    {
      "cell_type": "code",
      "execution_count": null,
      "metadata": {
        "colab": {
          "base_uri": "https://localhost:8080/"
        },
        "id": "gTHkl8GP1ui_",
        "outputId": "eb42f0cb-54bd-4a2e-c15e-376a46795379"
      },
      "outputs": [
        {
          "name": "stderr",
          "output_type": "stream",
          "text": [
            "/usr/local/lib/python3.12/dist-packages/keras/src/layers/convolutional/base_conv.py:113: UserWarning: Do not pass an `input_shape`/`input_dim` argument to a layer. When using Sequential models, prefer using an `Input(shape)` object as the first layer in the model instead.\n",
            "  super().__init__(activity_regularizer=activity_regularizer, **kwargs)\n"
          ]
        }
      ],
      "source": [
        "model = Sequential([\n",
        "    Conv2D(32, (3, 3), activation = \"relu\", input_shape = (28, 28, 1)),\n",
        "    MaxPooling2D((2, 2)),\n",
        "    Conv2D(64, (3,3), activation= \"relu\"),\n",
        "    MaxPooling2D((2,2)),\n",
        "    Flatten(),\n",
        "    Dense(64, activation=\"relu\"),\n",
        "    Dense(47, activation=\"softmax\")\n",
        "])"
      ]
    },
    {
      "cell_type": "code",
      "execution_count": null,
      "metadata": {
        "id": "C6nTVqWo14d3"
      },
      "outputs": [],
      "source": [
        "model.compile(optimizer = 'adam', loss = 'sparse_categorical_crossentropy', metrics = ['accuracy'])"
      ]
    },
    {
      "cell_type": "code",
      "execution_count": null,
      "metadata": {
        "colab": {
          "base_uri": "https://localhost:8080/"
        },
        "id": "Ij8aht_V2R0P",
        "outputId": "20730d35-6550-4e75-b123-b00caf1f2104"
      },
      "outputs": [
        {
          "name": "stdout",
          "output_type": "stream",
          "text": [
            "Epoch 1/5\n",
            "\u001b[1m2820/2820\u001b[0m \u001b[32m━━━━━━━━━━━━━━━━━━━━\u001b[0m\u001b[37m\u001b[0m \u001b[1m94s\u001b[0m 33ms/step - accuracy: 0.6289 - loss: 1.3028 - val_accuracy: 0.8339 - val_loss: 0.5023\n",
            "Epoch 2/5\n",
            "\u001b[1m2820/2820\u001b[0m \u001b[32m━━━━━━━━━━━━━━━━━━━━\u001b[0m\u001b[37m\u001b[0m \u001b[1m92s\u001b[0m 33ms/step - accuracy: 0.8467 - loss: 0.4586 - val_accuracy: 0.8495 - val_loss: 0.4306\n",
            "Epoch 3/5\n",
            "\u001b[1m2820/2820\u001b[0m \u001b[32m━━━━━━━━━━━━━━━━━━━━\u001b[0m\u001b[37m\u001b[0m \u001b[1m145s\u001b[0m 34ms/step - accuracy: 0.8647 - loss: 0.3899 - val_accuracy: 0.8573 - val_loss: 0.3972\n",
            "Epoch 4/5\n",
            "\u001b[1m2820/2820\u001b[0m \u001b[32m━━━━━━━━━━━━━━━━━━━━\u001b[0m\u001b[37m\u001b[0m \u001b[1m136s\u001b[0m 31ms/step - accuracy: 0.8770 - loss: 0.3415 - val_accuracy: 0.8674 - val_loss: 0.3776\n",
            "Epoch 5/5\n",
            "\u001b[1m2820/2820\u001b[0m \u001b[32m━━━━━━━━━━━━━━━━━━━━\u001b[0m\u001b[37m\u001b[0m \u001b[1m95s\u001b[0m 34ms/step - accuracy: 0.8878 - loss: 0.3091 - val_accuracy: 0.8650 - val_loss: 0.3917\n"
          ]
        }
      ],
      "source": [
        "history = model.fit(x_train_emnist, y_train_emnist, epochs = 5, batch_size= 32 ,validation_split = 0.2)"
      ]
    },
    {
      "cell_type": "code",
      "execution_count": null,
      "metadata": {
        "colab": {
          "base_uri": "https://localhost:8080/",
          "height": 449
        },
        "id": "ZhvHp7yh2WAi",
        "outputId": "f5169667-3555-40ea-9e2d-9b125249fe17"
      },
      "outputs": [
        {
          "data": {
            "image/png": "[encoded data removed]",
            "text/plain": [
              "<Figure size 640x480 with 1 Axes>"
            ]
          },
          "metadata": {},
          "output_type": "display_data"
        }
      ],
      "source": [
        "# Plot training vs validation accuracy\n",
        "plt.plot(history.history['accuracy'], label = 'Training Accuracy')\n",
        "plt.plot(history.history['val_accuracy'], label = 'Validation Accuracy')\n",
        "plt.xlabel('Epoch')\n",
        "plt.ylabel('Accuracy')\n",
        "plt.legend()\n",
        "plt.savefig('emnist_accuracy.png')\n",
        "plt.show()"
      ]
    },
    {
      "cell_type": "code",
      "execution_count": null,
      "metadata": {
        "colab": {
          "base_uri": "https://localhost:8080/"
        },
        "id": "Xgr_vmO-Ko9l",
        "outputId": "d67181b2-6b26-4594-ea50-effbd9d545fb"
      },
      "outputs": [
        {
          "name": "stdout",
          "output_type": "stream",
          "text": [
            "Test Accuracy: 0.8599467873573303\n"
          ]
        }
      ],
      "source": [
        "test_loss, test_acc = model.evaluate(x_test_emnist, y_test_emnist, verbose=0)\n",
        "print(\"Test Accuracy:\", test_acc)"
      ]
    },
    {
      "cell_type": "code",
      "execution_count": null,
      "metadata": {
        "colab": {
          "base_uri": "https://localhost:8080/"
        },
        "id": "L5nWbhpbN36m",
        "outputId": "0ff2eb27-fd90-490a-8359-4769422eca3e"
      },
      "outputs": [
        {
          "name": "stdout",
          "output_type": "stream",
          "text": [
            "\u001b[1m588/588\u001b[0m \u001b[32m━━━━━━━━━━━━━━━━━━━━\u001b[0m\u001b[37m\u001b[0m \u001b[1m6s\u001b[0m 10ms/step\n",
            "First sample probabilities: [6.40907267e-04 9.65019531e-09 3.06574220e-05 1.05586084e-09\n",
            " 1.01282005e-08 9.70902079e-08 1.30035520e-08 2.70772365e-08\n",
            " 1.11346284e-03 3.49513278e-03 4.18236414e-05 3.78649893e-05\n",
            " 1.71148756e-07 2.22763811e-06 4.28705334e-07 1.27920412e-08\n",
            " 1.09951077e-04 3.57144252e-08 5.63591591e-08 9.09988103e-07\n",
            " 2.43688287e-08 2.22498713e-07 4.62575663e-05 5.60654144e-07\n",
            " 5.26241784e-04 1.21313972e-08 2.76406412e-03 1.12704351e-04\n",
            " 1.43121298e-07 4.24943369e-09 8.65955808e-05 1.40733656e-08\n",
            " 1.57253442e-06 3.53363504e-07 2.29515607e-07 3.92007996e-06\n",
            " 5.27571201e-01 1.61115611e-06 6.44217289e-06 3.10771939e-05\n",
            " 9.28224182e-08 1.63991302e-01 1.90983414e-07 3.02988221e-04\n",
            " 2.99076200e-01 2.07124299e-06 2.98120746e-08]\n"
          ]
        }
      ],
      "source": [
        "y_pred = model.predict(x_test_emnist)\n",
        "\n",
        "# probability vector\n",
        "print(\"First sample probabilities:\", y_pred[0])"
      ]
    },
    {
      "cell_type": "code",
      "execution_count": null,
      "metadata": {
        "colab": {
          "base_uri": "https://localhost:8080/"
        },
        "id": "Du9tzPO5N9MN",
        "outputId": "98d95b0c-e798-4571-d6eb-937c46ad8744"
      },
      "outputs": [
        {
          "name": "stdout",
          "output_type": "stream",
          "text": [
            "Predicted Label: 36\n"
          ]
        }
      ],
      "source": [
        "pred_label = np.argmax(y_pred[0])\n",
        "print(\"Predicted Label:\", pred_label)"
      ]
    },
    {
      "cell_type": "code",
      "execution_count": null,
      "metadata": {
        "colab": {
          "base_uri": "https://localhost:8080/"
        },
        "id": "eo1fidUoOFAO",
        "outputId": "345cff7d-c008-4818-a0c7-6eb258d48218"
      },
      "outputs": [
        {
          "name": "stdout",
          "output_type": "stream",
          "text": [
            "True Label: 0\n"
          ]
        }
      ],
      "source": [
        "true_label = np.argmax(y_test_emnist[0])   # agar one-hot encoded hai\n",
        "print(\"True Label:\", true_label)"
      ]
    },
    {
      "cell_type": "code",
      "execution_count": null,
      "metadata": {
        "colab": {
          "base_uri": "https://localhost:8080/",
          "height": 445
        },
        "id": "Ewq7lRQEOQlN",
        "outputId": "3a83e456-704e-479c-f22f-a6ba0f06cc7f"
      },
      "outputs": [
        {
          "name": "stdout",
          "output_type": "stream",
          "text": [
            "\u001b[1m1/1\u001b[0m \u001b[32m━━━━━━━━━━━━━━━━━━━━\u001b[0m\u001b[37m\u001b[0m \u001b[1m0s\u001b[0m 61ms/step\n"
          ]
        },
        {
          "data": {
            "image/png": "[encoded data removed]",
            "text/plain": [
              "<Figure size 640x480 with 1 Axes>"
            ]
          },
          "metadata": {},
          "output_type": "display_data"
        }
      ],
      "source": [
        "idx = np.random.randint(0, len(x_test_emnist))\n",
        "\n",
        "# ek image aur uska label\n",
        "image = x_test_emnist[idx]\n",
        "true_label = np.argmax(y_test_emnist[idx])   # agar one-hot hai\n",
        "# true_label = y_test[idx]            # agar one-hot nahi hai\n",
        "\n",
        "# prediction\n",
        "y_pred = model.predict(image.reshape(1, 28, 28, 1))   # 1 sample ke liye reshape\n",
        "pred_label = np.argmax(y_pred)\n",
        "\n",
        "# show image with labels\n",
        "plt.imshow(image.squeeze(), cmap='gray')  # squeeze se extra dim hat jati h\n",
        "plt.title(f\"Original: {true_label} | Predicted: {pred_label}\")\n",
        "plt.axis('off')\n",
        "plt.show()"
      ]
    }
  ],
  "metadata": {
    "accelerator": "GPU",
    "colab": {
      "gpuType": "T4",
      "provenance": [],
      "include_colab_link": true
    },
    "kernelspec": {
      "display_name": "Python 3",
      "name": "python3"
    },
    "language_info": {
      "name": "python"
    }
  },
  "nbformat": 4,
  "nbformat_minor": 0
}